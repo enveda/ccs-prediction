{
 "cells": [
  {
   "cell_type": "code",
   "execution_count": 2,
   "metadata": {},
   "outputs": [],
   "source": [
    "import pandas as pd"
   ]
  },
  {
   "cell_type": "code",
   "execution_count": 3,
   "metadata": {},
   "outputs": [],
   "source": [
    "combo_3d = pd.read_parquet(\"ccs-prediction/combined_metlin_ccsbase_train_test_split_3d.parquet\")"
   ]
  },
  {
   "cell_type": "code",
   "execution_count": 5,
   "metadata": {},
   "outputs": [
    {
     "data": {
      "text/plain": [
       "source\n",
       "metlin     61855\n",
       "ccsbase    10771\n",
       "Name: count, dtype: int64"
      ]
     },
     "execution_count": 5,
     "metadata": {},
     "output_type": "execute_result"
    }
   ],
   "source": [
    "combo_3d.source.value_counts()"
   ]
  },
  {
   "cell_type": "code",
   "execution_count": 6,
   "metadata": {},
   "outputs": [
    {
     "data": {
      "text/plain": [
       "split\n",
       "train_3    12776\n",
       "train_2    12656\n",
       "test       12482\n",
       "train_4    11809\n",
       "train_0    11750\n",
       "train_1    11153\n",
       "Name: count, dtype: int64"
      ]
     },
     "execution_count": 6,
     "metadata": {},
     "output_type": "execute_result"
    }
   ],
   "source": [
    "combo_3d.split.value_counts()"
   ]
  },
  {
   "cell_type": "code",
   "execution_count": 14,
   "metadata": {},
   "outputs": [],
   "source": [
    "# train metlin\n",
    "combo_3d[(combo_3d.source == \"metlin\") & (combo_3d.split.str.contains(\"train\"))].to_parquet(\"ccs-prediction/metlin_train_3d.parquet\")\n",
    "\n",
    "# test metlin\n",
    "combo_3d[(combo_3d.source == \"metlin\") & (combo_3d.split == \"test\")].to_parquet(\"ccs-prediction/metlin_test_3d.parquet\")\n",
    "\n",
    "# train ccsbase\n",
    "combo_3d[(combo_3d.source == \"ccsbase\") & (combo_3d.split.str.contains(\"train\"))].to_parquet(\"ccs-prediction/ccsbase_train_3d.parquet\")\n",
    "\n",
    "# test ccsbase\n",
    "combo_3d[(combo_3d.source == \"ccsbase\") & (combo_3d.split == \"test\")].to_parquet(\"ccs-prediction/ccsbase_test_3d.parquet\")\n",
    "\n",
    "# train metlin + ccsbase\n",
    "combo_3d[(combo_3d.split.str.contains(\"train\"))].to_parquet(\"ccs-prediction/metlin_ccsbase_train_3d.parquet\")\n",
    "\n",
    "# test metlin + ccsbase\n",
    "combo_3d[combo_3d.split == \"test\"].to_parquet(\"ccs-prediction/metlin_ccsbase_test_3d.parquet\")\n",
    "\n",
    "# metlin by itself\n",
    "combo_3d[combo_3d.source == \"metlin\"].to_parquet(\"ccs-prediction/metlin_3d.parquet\")\n",
    "\n",
    "# ccsbase by itself\n",
    "combo_3d[combo_3d.source == \"ccsbase\"].to_parquet(\"ccs-prediction/ccsbase_3d.parquet\")"
   ]
  }
 ],
 "metadata": {
  "kernelspec": {
   "display_name": ".venv",
   "language": "python",
   "name": "python3"
  },
  "language_info": {
   "codemirror_mode": {
    "name": "ipython",
    "version": 3
   },
   "file_extension": ".py",
   "mimetype": "text/x-python",
   "name": "python",
   "nbconvert_exporter": "python",
   "pygments_lexer": "ipython3",
   "version": "3.9.16"
  }
 },
 "nbformat": 4,
 "nbformat_minor": 2
}
